{
 "cells": [
  {
   "cell_type": "markdown",
   "id": "e8b9bf63-fc83-4e77-aebb-a4879fd6a5e6",
   "metadata": {},
   "source": [
    "# 1.SORTING THE ARRAY WITH IMPLEMENTATION OF NUMPYy"
   ]
  },
  {
   "cell_type": "code",
   "execution_count": 11,
   "id": "e7bf7627-04af-44eb-b855-03d124f9d92d",
   "metadata": {},
   "outputs": [
    {
     "name": "stdout",
     "output_type": "stream",
     "text": [
      "Original array: [12  4 56  7 29 10]\n",
      "sorted array: [ 4  7 10 12 29 56]\n"
     ]
    }
   ],
   "source": [
    "import numpy as np\n",
    "a= np.array([12,4,56,7,29,10])\n",
    "import numpy as np \n",
    "print(\"Original array:\",a)\n",
    "a.sort()\n",
    "print(\"sorted array:\",a)\n",
    " "
   ]
  },
  {
   "cell_type": "markdown",
   "id": "f2649e51-48e6-4f2c-ba7e-2921f61adf30",
   "metadata": {},
   "source": [
    "# 2.DATAFRAMES WITH IMPLEMENTATION OF PANDAS"
   ]
  },
  {
   "cell_type": "code",
   "execution_count": 16,
   "id": "31cad2d0-8800-4d63-98a3-f6feaa90ee3f",
   "metadata": {},
   "outputs": [
    {
     "name": "stdout",
     "output_type": "stream",
     "text": [
      "   stdid std_name subjects\n",
      "0    101        a        x\n",
      "1    102        b        y\n",
      "2    103        c        z\n",
      "3    104        d        o\n"
     ]
    }
   ],
   "source": [
    "import pandas as pd\n",
    "d={'stdid':[101,102,103,104] ,'std_name':['a','b','c','d'],'subjects':['x','y','z','o']}\n",
    "df= pd.DataFrame(d)\n",
    "print(df)"
   ]
  },
  {
   "cell_type": "code",
   "execution_count": 18,
   "id": "3197a298-2e44-4ca7-9c26-97f24115750c",
   "metadata": {},
   "outputs": [
    {
     "name": "stdout",
     "output_type": "stream",
     "text": [
      "      Name  Age Department  Salary\n",
      "0    Alice   24         HR   50000\n",
      "1      Bob   27    Finance   60000\n",
      "2  Charlie   22         IT   55000\n",
      "3    David   32  Marketing   65000\n"
     ]
    }
   ],
   "source": [
    "import pandas as pd\n",
    "d= {'Name':['Alice','Bob','Charlie','David'] ,'Age':[24,27,22,32],'Department':['HR', 'Finance','IT','Marketing'],'Salary':[50000,60000,55000,65000]}\n",
    "df= pd.DataFrame(d)\n",
    "print(df)"
   ]
  },
  {
   "cell_type": "code",
   "execution_count": 20,
   "id": "a03f6195-131b-43c9-9fd2-3dfa1bc16cfe",
   "metadata": {},
   "outputs": [
    {
     "name": "stdout",
     "output_type": "stream",
     "text": [
      "  Department  Age\n",
      "0         HR   24\n",
      "1    Finance   27\n",
      "2         IT   22\n",
      "3  Marketing   32\n",
      "Department    HR\n",
      "Age           24\n",
      "Name: 0, dtype: object\n",
      "  Department  Age\n",
      "0         HR   24\n",
      "1    Finance   27\n",
      "2         IT   22\n",
      "0    24\n",
      "1    27\n",
      "2    22\n",
      "3    32\n",
      "Name: Age, dtype: int64\n",
      "0           HR\n",
      "1      Finance\n",
      "2           IT\n",
      "3    Marketing\n",
      "Name: Department, dtype: object\n",
      "<class 'pandas.core.frame.DataFrame'>\n",
      "RangeIndex: 4 entries, 0 to 3\n",
      "Data columns (total 2 columns):\n",
      " #   Column      Non-Null Count  Dtype \n",
      "---  ------      --------------  ----- \n",
      " 0   Department  4 non-null      object\n",
      " 1   Age         4 non-null      int64 \n",
      "dtypes: int64(1), object(1)\n",
      "memory usage: 196.0+ bytes\n"
     ]
    },
    {
     "data": {
      "text/html": [
       "<div>\n",
       "<style scoped>\n",
       "    .dataframe tbody tr th:only-of-type {\n",
       "        vertical-align: middle;\n",
       "    }\n",
       "\n",
       "    .dataframe tbody tr th {\n",
       "        vertical-align: top;\n",
       "    }\n",
       "\n",
       "    .dataframe thead th {\n",
       "        text-align: right;\n",
       "    }\n",
       "</style>\n",
       "<table border=\"1\" class=\"dataframe\">\n",
       "  <thead>\n",
       "    <tr style=\"text-align: right;\">\n",
       "      <th></th>\n",
       "      <th>Age</th>\n",
       "    </tr>\n",
       "  </thead>\n",
       "  <tbody>\n",
       "    <tr>\n",
       "      <th>count</th>\n",
       "      <td>4.000000</td>\n",
       "    </tr>\n",
       "    <tr>\n",
       "      <th>mean</th>\n",
       "      <td>26.250000</td>\n",
       "    </tr>\n",
       "    <tr>\n",
       "      <th>std</th>\n",
       "      <td>4.349329</td>\n",
       "    </tr>\n",
       "    <tr>\n",
       "      <th>min</th>\n",
       "      <td>22.000000</td>\n",
       "    </tr>\n",
       "    <tr>\n",
       "      <th>25%</th>\n",
       "      <td>23.500000</td>\n",
       "    </tr>\n",
       "    <tr>\n",
       "      <th>50%</th>\n",
       "      <td>25.500000</td>\n",
       "    </tr>\n",
       "    <tr>\n",
       "      <th>75%</th>\n",
       "      <td>28.250000</td>\n",
       "    </tr>\n",
       "    <tr>\n",
       "      <th>max</th>\n",
       "      <td>32.000000</td>\n",
       "    </tr>\n",
       "  </tbody>\n",
       "</table>\n",
       "</div>"
      ],
      "text/plain": [
       "             Age\n",
       "count   4.000000\n",
       "mean   26.250000\n",
       "std     4.349329\n",
       "min    22.000000\n",
       "25%    23.500000\n",
       "50%    25.500000\n",
       "75%    28.250000\n",
       "max    32.000000"
      ]
     },
     "execution_count": 20,
     "metadata": {},
     "output_type": "execute_result"
    }
   ],
   "source": [
    "import pandas as pd\n",
    "d={'Department':['HR', 'Finance','IT','Marketing'],'Age':[24,27,22,32]}\n",
    "df= pd.DataFrame(d)\n",
    "print(df)\n",
    "print(df.loc[0])\n",
    "print(df.loc[0:2])\n",
    "print(df['Age'])\n",
    "print(df['Department'])\n",
    "df.info()\n",
    "df.describe()"
   ]
  },
  {
   "cell_type": "markdown",
   "id": "2dfad701-d5e8-4212-a10d-f7e08e41cabe",
   "metadata": {},
   "source": [
    "# 3.UNIFORM COST SEARCH"
   ]
  },
  {
   "cell_type": "code",
   "execution_count": null,
   "id": "2acaebc0-0b0f-4931-b44a-031a389bcb41",
   "metadata": {},
   "outputs": [],
   "source": [
    "#UNIFROM COST SEARCH\n",
    "import heapq\n",
    "def ucs(graph,start,goal):\n",
    "    pq=[(0,start,[])]\n",
    "    visited=set()\n",
    "    while pq:\n",
    "        cost, node,path=heapq.heappop(pq)\n",
    "        if node is visited:\n",
    "            continue\n",
    "        path=path+[node]\n",
    "        visited.add(node)\n",
    "        if node==goal:\n",
    "                return cost,path\n",
    "        for neighbor,edge_cost in graph.get(node,[]):\n",
    "         if neighbor not in  visited:\n",
    "                        heapq.heappush(pq, (cost + edge_cost, neighbor, path))\n",
    "    return float('inf'),[]\n",
    "graph ={\n",
    "     'A':[('B',4), ('C',3)],\n",
    "     'B':[('F',5),('E',12)],\n",
    "     'C':[('E',10),('D',7)],\n",
    "     'D':[('E',2)],\n",
    "     'E':[('Z',5)],\n",
    "     'F':[('Z',16)]}\n",
    "start_node = 'A'\n",
    "goal_node = 'Z'\n",
    "cost, path = ucs(graph,start_node,goal_node)\n",
    "print(f\"Least-cost path from {start_node} to {goal_node}:{path}\")\n",
    "print(f\"Total Cost:{cost}\")"
   ]
  },
  {
   "cell_type": "markdown",
   "id": "7f036fa8-01b2-4dbb-b0e0-f8b0e8bd7e6d",
   "metadata": {},
   "source": [
    "# 4.A* SEARCH ALGORITHM"
   ]
  },
  {
   "cell_type": "code",
   "execution_count": 1,
   "id": "0a6939e0-1d81-4323-920d-a4edb1b5df23",
   "metadata": {},
   "outputs": [
    {
     "name": "stdout",
     "output_type": "stream",
     "text": [
      "Least-cost path from A to G: ['A', 'B', 'D', 'G']\n",
      "Total cost: 5\n"
     ]
    }
   ],
   "source": [
    "#A* SEARCH ALGORITHM\n",
    "import heapq\n",
    " \n",
    "class Node:\n",
    "    def __init__(self, state, parent=None, cost=0, heuristic=0):\n",
    "        self.state = state\n",
    "        self.parent = parent\n",
    "        self.g = cost\n",
    "        self.h = heuristic\n",
    "        self.f = self.g + self.h\n",
    "    def __lt__(self, other):\n",
    "        return self.f < other.f\n",
    "def a_star(graph, start, goal, heuristic):\n",
    "    open_list = []\n",
    "    heapq.heappush(open_list, Node(start, None, 0, heuristic[start]))\n",
    "    closed_list = set()\n",
    " \n",
    "    while open_list:\n",
    "        current_node = heapq.heappop(open_list)\n",
    " \n",
    "        if current_node.state == goal:\n",
    "            path = []\n",
    "            total_cost = current_node.g\n",
    "            while current_node:\n",
    "                path.append(current_node.state)\n",
    "                current_node = current_node.parent\n",
    "            return path[::-1], total_cost\n",
    " \n",
    "        closed_list.add(current_node.state)\n",
    " \n",
    "        for neighbor, cost in graph[current_node.state].items():\n",
    "            if neighbor in closed_list:\n",
    "                continue\n",
    "            g_cost = current_node.g + cost\n",
    "            h_cost = heuristic[neighbor]\n",
    "            neighbor_node = Node(neighbor, current_node, g_cost, h_cost)\n",
    "            heapq.heappush(open_list, neighbor_node)\n",
    " \n",
    "    return None, None\n",
    " \n",
    "graph = {\n",
    "    'A': {'B': 1, 'C': 4},\n",
    "    'B': {'A': 1, 'D': 2, 'E': 5},\n",
    "    'C': {'A': 4, 'F': 1},\n",
    "    'D': {'B': 2, 'G': 2},\n",
    "    'E': {'B': 5},\n",
    "    'F': {'C': 1, 'G': 3},\n",
    "    'G': {'D': 2, 'F': 3}\n",
    "}\n",
    " \n",
    "heuristic = {\n",
    "    'A': 6, 'B': 4, 'C': 4, 'D': 3, 'E': 2, 'F': 2, 'G': 0\n",
    "}\n",
    " \n",
    "start = 'A'\n",
    "goal = 'G'\n",
    "path, total_cost = a_star(graph, start, goal, heuristic)\n",
    " \n",
    "print(f'Least-cost path from {start} to {goal}: {path}')\n",
    "print(f'Total cost: {total_cost}')"
   ]
  },
  {
   "cell_type": "markdown",
   "id": "05fd6d9e-86ef-4b17-ae06-f5f251ced899",
   "metadata": {},
   "source": [
    "# 5.HILL CLIMBING"
   ]
  },
  {
   "cell_type": "code",
   "execution_count": 42,
   "id": "8d1ce697-9e69-4149-bec9-f860889fe780",
   "metadata": {},
   "outputs": [
    {
     "name": "stdout",
     "output_type": "stream",
     "text": [
      "Best state: 1.9999971145591757\n",
      "Best value: 3.999999999991674\n"
     ]
    }
   ],
   "source": [
    "#HILL CLIMBING (MAXIMIZE FUNCTION)\n",
    "import random\n",
    "def example_function(x):\n",
    "    \"\"\"Maximize function f(x) = -x^2 + 4x\"\"\"\n",
    "    return -x**2 + 4*x\n",
    "def hill_climbing(function, initial_state, step_size=0.1, max_iterations=1000):\n",
    "    \"\"\"simple hill climbing algorithm\"\"\"\n",
    "    current_state = initial_state\n",
    "    current_value = function(current_state)\n",
    "    for _ in range(max_iterations):\n",
    "       next_state = current_state + random.uniform(-step_size, step_size)\n",
    "       next_value = function(next_state)\n",
    "       if next_value > current_value:\n",
    "            current_state = next_state\n",
    "            current_value = next_value\n",
    "    return current_state, current_value\n",
    "initial_state = random.uniform(-10, 10)\n",
    "best_state, best_value = hill_climbing(example_function, initial_state)\n",
    "print(f\"Best state: {best_state}\")\n",
    "print(f\"Best value: {best_value}\")"
   ]
  },
  {
   "cell_type": "code",
   "execution_count": null,
   "id": "8b24b77c-1260-4290-ba6a-8df405e33ea9",
   "metadata": {},
   "outputs": [],
   "source": []
  },
  {
   "cell_type": "code",
   "execution_count": null,
   "id": "ca19e435-a8e3-4376-a306-3187dd9b5087",
   "metadata": {},
   "outputs": [],
   "source": []
  },
  {
   "cell_type": "code",
   "execution_count": null,
   "id": "e5019012-ff4a-4fba-bdc7-5a293f3bb98c",
   "metadata": {},
   "outputs": [],
   "source": []
  }
 ],
 "metadata": {
  "kernelspec": {
   "display_name": "Python 3 (ipykernel)",
   "language": "python",
   "name": "python3"
  },
  "language_info": {
   "codemirror_mode": {
    "name": "ipython",
    "version": 3
   },
   "file_extension": ".py",
   "mimetype": "text/x-python",
   "name": "python",
   "nbconvert_exporter": "python",
   "pygments_lexer": "ipython3",
   "version": "3.12.4"
  }
 },
 "nbformat": 4,
 "nbformat_minor": 5
}
